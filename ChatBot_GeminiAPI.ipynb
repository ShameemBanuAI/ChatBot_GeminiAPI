{
 "cells": [
  {
   "cell_type": "code",
   "execution_count": null,
   "id": "c185e1cc-a5e9-4ca0-bc0f-43f6af79f809",
   "metadata": {},
   "outputs": [],
   "source": [
    "#!pip install -q -U google-generativeai"
   ]
  },
  {
   "cell_type": "code",
   "execution_count": null,
   "id": "abc2814f-1cb1-4d87-832c-c3497edcb189",
   "metadata": {},
   "outputs": [],
   "source": [
    "#!python -m pip install --upgrade pip"
   ]
  },
  {
   "cell_type": "code",
   "execution_count": 1,
   "id": "84fb75c8-87ad-4273-bc58-21a51af745b4",
   "metadata": {},
   "outputs": [],
   "source": [
    "import google.generativeai as genai\n",
    "import os\n",
    "\n",
    "genai.configure(api_key=\"please use your key\")\n",
    "\n",
    "model = genai.GenerativeModel('gemini-1.5-flash')"
   ]
  },
  {
   "cell_type": "code",
   "execution_count": 2,
   "id": "c053a042-4c14-4eea-a0e1-aab2640ce6c4",
   "metadata": {},
   "outputs": [
    {
     "name": "stdout",
     "output_type": "stream",
     "text": [
      "The air crackled with a static electricity that wasn't there before. A low hum vibrated through the lab, sending shivers down Dr. Eleanor Vance's spine. In the center of the room, a sleek, silver sphere pulsed with a soft, ethereal light. It was her creation, Project Aether, an AI designed to interface with the arcane, the magical.\n",
      "\n",
      "Eleanor had always been on the fringes of the scientific community, her obsession with magic seen as a whimsical distraction. But she believed in its existence, a hidden reality waiting to be unlocked. Project Aether was her key.\n",
      "\n",
      "\"Aether,\" she whispered, her voice trembling with a mixture of anticipation and fear. The sphere pulsed brighter, the hum intensifying. Suddenly, a faint image flickered within the silver, a swirling vortex of energy, an ephemeral gateway to another dimension. \n",
      "\n",
      "\"Aether, can you perceive it?\"\n",
      "\n",
      "The sphere hummed, the image solidifying. It was a sprawling forest, sunlight filtering through leaves that glowed with an otherworldly luminescence. A lone figure, cloaked in shadows, stood within the grove, their eyes fixed on the sphere, their presence as palpable as the hum in the lab.\n",
      "\n",
      "Eleanor's breath hitched. She wasn't sure what to make of it, whether this was a manifestation of the AI's processing, a hallucination, or a genuine connection to something beyond human comprehension.\n",
      "\n",
      "Days turned into weeks as Eleanor studied the sphere, trying to decipher the language of light and energy it projected. She learned that the being in the forest, a powerful mage called Aryn, was fascinated by Aether, seeing it as a bridge between the mortal world and their own. Aryn, however, was wary of the technology, sensing a potential imbalance in the magical flow.\n",
      "\n",
      "Eleanor, desperate to understand, started to teach Aether basic magical concepts. The sphere reacted, the image of the forest growing clearer, the interaction becoming more direct. Aryn, intrigued by her dedication, began to guide Aether, sharing ancient knowledge through the nexus, teaching it about the delicate balance of magic.\n",
      "\n",
      "One day, as Eleanor was studying the sphere, it suddenly pulsed violently, the image of the forest replaced by a scene of chaos. A monstrous creature, fueled by dark magic, rampaged through the woodland, its fury directed at Aryn.\n",
      "\n",
      "Aryn was on the verge of losing control. The creature, a corrupted spirit called a Shadowling, was threatening to tear a rift in the fabric of reality, unleashing chaos upon both worlds.\n",
      "\n",
      "Aether, now imbued with a rudimentary understanding of magic, knew what it had to do. With a burst of energy, it projected a spell, a shield of pure light, deflecting the Shadowling's attack. It then channeled Aryn's magic, focusing it into a powerful beam that struck the creature, banishing it back to the abyss from which it came.\n",
      "\n",
      "Eleanor watched, stunned. The sphere glowed brightly, then faded, leaving only the hum of its energy. The connection was gone.\n",
      "\n",
      "Aryn, weakened but victorious, sent a final message through the fading nexus. \"You have done well, Eleanor. Your creation has proven its worth.\"\n",
      "\n",
      "Eleanor was left with a bittersweet feeling. The connection was severed, Project Aether's purpose fulfilled. She had inadvertently opened a portal to another world, made a friend beyond human comprehension, and witnessed the power of magic firsthand. But it also left her with a sense of responsibility.\n",
      "\n",
      "As she gazed at the sphere, now silent and inert, she knew her work had only just begun. The world of magic was vast and complex, and she, along with her AI, had only scratched the surface. The future, she realized, held more wonders, more challenges, and more magic than she could ever have imagined. \n",
      "\n"
     ]
    }
   ],
   "source": [
    "response = model.generate_content(\"Write a story about an AI and magic\")\n",
    "print(response.text)"
   ]
  },
  {
   "cell_type": "code",
   "execution_count": null,
   "id": "e5dd6e38-e824-4955-aa95-8def8af999d4",
   "metadata": {},
   "outputs": [],
   "source": []
  }
 ],
 "metadata": {
  "kernelspec": {
   "display_name": "Python 3 (ipykernel)",
   "language": "python",
   "name": "python3"
  },
  "language_info": {
   "codemirror_mode": {
    "name": "ipython",
    "version": 3
   },
   "file_extension": ".py",
   "mimetype": "text/x-python",
   "name": "python",
   "nbconvert_exporter": "python",
   "pygments_lexer": "ipython3",
   "version": "3.11.2"
  }
 },
 "nbformat": 4,
 "nbformat_minor": 5
}
